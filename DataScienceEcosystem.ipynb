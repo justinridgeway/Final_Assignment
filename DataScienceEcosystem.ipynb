{
 "cells": [
  {
   "cell_type": "markdown",
   "id": "5600c025",
   "metadata": {},
   "source": [
    "# Data Science Tools and Ecosystem"
   ]
  },
  {
   "cell_type": "markdown",
   "id": "d46a896b",
   "metadata": {},
   "source": [
    "In this notebook, Data Science Tools and Ecosystem are summarized."
   ]
  },
  {
   "cell_type": "markdown",
   "id": "2c47efd5",
   "metadata": {},
   "source": [
    "## Some of the popular languages that Data Scientists use are:\n",
    "\n",
    "   1. Python\n",
    "   2. R\n",
    "   3. Scala"
   ]
  },
  {
   "cell_type": "markdown",
   "id": "4719ff3c",
   "metadata": {},
   "source": [
    "## Some of the commonly used libraries used by Data Scientists include:\n",
    "1. matplotlib\n",
    "2. ggplot2\n",
    "3. Pandas"
   ]
  },
  {
   "cell_type": "markdown",
   "id": "08ad408f",
   "metadata": {},
   "source": [
    "|Data Science Tools|\n",
    "|------------------|\n",
    "|Jupyter Notebooks|\n",
    "|RStudio|\n",
    "|Hadoop|\n"
   ]
  },
  {
   "cell_type": "markdown",
   "id": "f9a5a7e3",
   "metadata": {},
   "source": [
    "### Below are a few examples of evaluating arithmetic expressions in Python.\n",
    "1. (4/2)*8\n",
    "2. math.sqrt(25)\n",
    "3. 4^5\n"
   ]
  },
  {
   "cell_type": "code",
   "execution_count": 3,
   "id": "ffd2e05f",
   "metadata": {},
   "outputs": [
    {
     "data": {
      "text/plain": [
       "17"
      ]
     },
     "execution_count": 3,
     "metadata": {},
     "output_type": "execute_result"
    }
   ],
   "source": [
    "#This a simple arithmetic expression to mutiply then add integers\n",
    "(3*4)+5"
   ]
  },
  {
   "cell_type": "code",
   "execution_count": 4,
   "id": "ecf055c8",
   "metadata": {},
   "outputs": [
    {
     "data": {
      "text/plain": [
       "3.3333333333333335"
      ]
     },
     "execution_count": 4,
     "metadata": {},
     "output_type": "execute_result"
    }
   ],
   "source": [
    "#This will convert 200 minutes to hours by diving by 60\n",
    "200/60"
   ]
  },
  {
   "cell_type": "markdown",
   "id": "0bb5a670",
   "metadata": {},
   "source": [
    "**Objectives:**\n",
    "- List popular languages in Data Science\n",
    "- Show examples of evaluating arithmetic expressions in Python\n",
    "- List commonly used libraries used by Data Scientists"
   ]
  },
  {
   "cell_type": "markdown",
   "id": "e1720237",
   "metadata": {},
   "source": [
    "## Author\n",
    "Justin Ridgeway"
   ]
  },
  {
   "cell_type": "code",
   "execution_count": null,
   "id": "f8db8d47",
   "metadata": {},
   "outputs": [],
   "source": []
  }
 ],
 "metadata": {
  "kernelspec": {
   "display_name": "Python 3 (ipykernel)",
   "language": "python",
   "name": "python3"
  },
  "language_info": {
   "codemirror_mode": {
    "name": "ipython",
    "version": 3
   },
   "file_extension": ".py",
   "mimetype": "text/x-python",
   "name": "python",
   "nbconvert_exporter": "python",
   "pygments_lexer": "ipython3",
   "version": "3.9.12"
  }
 },
 "nbformat": 4,
 "nbformat_minor": 5
}
